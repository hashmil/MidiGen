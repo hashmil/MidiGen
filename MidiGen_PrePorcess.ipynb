{
  "nbformat": 4,
  "nbformat_minor": 0,
  "metadata": {
    "colab": {
      "provenance": [],
      "authorship_tag": "ABX9TyPEar/iWjE1TQHL48UKkxVw",
      "include_colab_link": true
    },
    "kernelspec": {
      "name": "python3",
      "display_name": "Python 3"
    },
    "language_info": {
      "name": "python"
    }
  },
  "cells": [
    {
      "cell_type": "markdown",
      "metadata": {
        "id": "view-in-github",
        "colab_type": "text"
      },
      "source": [
        "<a href=\"https://colab.research.google.com/github/hashmil/MidiGen/blob/main/MidiGen_PrePorcess.ipynb\" target=\"_parent\"><img src=\"https://colab.research.google.com/assets/colab-badge.svg\" alt=\"Open In Colab\"/></a>"
      ]
    },
    {
      "cell_type": "code",
      "execution_count": null,
      "metadata": {
        "id": "FxQOYtdIG9dU"
      },
      "outputs": [],
      "source": [
        "# Initial Setup\n",
        "run_on_colab = True\n",
        "\n",
        "if(run_on_colab):\n",
        "    from google.colab import drive\n",
        "    drive.mount('/content/drive')"
      ]
    },
    {
      "cell_type": "code",
      "source": [
        "# Install Dependencies\n",
        "!pip install music21;"
      ],
      "metadata": {
        "id": "EeBHPjgUHFL6"
      },
      "execution_count": null,
      "outputs": []
    },
    {
      "cell_type": "code",
      "source": [
        "# Upload MIDI Files (Optional, if you have them in a Gdrive folder)\n",
        "if(run_on_colab):\n",
        "    from google.colab import files\n",
        "    files.upload()"
      ],
      "metadata": {
        "id": "M1fkPkETHJnv"
      },
      "execution_count": null,
      "outputs": []
    },
    {
      "cell_type": "code",
      "source": [
        "# Unzip MIDI Files (Optional, use if you used last cell to upload a zip)\n",
        "!unzip midi_files.zip;"
      ],
      "metadata": {
        "id": "xKVTG46eHLEO"
      },
      "execution_count": null,
      "outputs": []
    },
    {
      "cell_type": "code",
      "source": [
        "# Processing Data\n",
        "import glob\n",
        "import pickle\n",
        "from music21 import converter, instrument, note, chord\n",
        "\n",
        "notes = []\n",
        "for i, file in enumerate(glob.glob(\"/content/drive/MyDrive/MIDI/vivaldi/midi/*.mid\")):\n",
        "    midi = converter.parse(file)\n",
        "    print('\\r', 'Parsing file ', i, \" \", file, end='')\n",
        "    notes_to_parse = None\n",
        "    try:\n",
        "        s2 = instrument.partitionByInstrument(midi)\n",
        "        notes_to_parse = s2.parts[0].recurse()\n",
        "    except:\n",
        "        notes_to_parse = midi.flat.notes\n",
        "    for element in notes_to_parse:\n",
        "        if isinstance(element, note.Note):\n",
        "            notes.append(str(element.pitch))\n",
        "        elif isinstance(element, chord.Chord):\n",
        "            notes.append('.'.join(str(n) for n in element.normalOrder))\n",
        "\n",
        "with open('/content/drive/MyDrive/MIDI/vivaldi/pickle/notes.pkl', 'wb') as filepath:\n",
        "    pickle.dump(notes, filepath)\n",
        "\n",
        "n_vocab = len(set(notes))\n",
        "with open('/content/drive/MyDrive/MIDI/vivaldi/pickle/n_vocab.pkl', 'wb') as filepath:\n",
        "    pickle.dump(n_vocab, filepath)"
      ],
      "metadata": {
        "id": "W83DY9VDHMlx"
      },
      "execution_count": null,
      "outputs": []
    }
  ]
}