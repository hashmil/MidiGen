{
  "nbformat": 4,
  "nbformat_minor": 0,
  "metadata": {
    "colab": {
      "provenance": [],
      "machine_shape": "hm",
      "gpuType": "T4",
      "mount_file_id": "1tYzM73YvUGoNQv4XdWvEd1b23gHSXy19",
      "authorship_tag": "ABX9TyNqweF1asEV9yoGCBhNNYMU",
      "include_colab_link": true
    },
    "kernelspec": {
      "name": "python3",
      "display_name": "Python 3"
    },
    "language_info": {
      "name": "python"
    },
    "accelerator": "GPU"
  },
  "cells": [
    {
      "cell_type": "markdown",
      "metadata": {
        "id": "view-in-github",
        "colab_type": "text"
      },
      "source": [
        "<a href=\"https://colab.research.google.com/github/hashmil/MidiGen/blob/main/MidiGen_model_training.ipynb\" target=\"_parent\"><img src=\"https://colab.research.google.com/assets/colab-badge.svg\" alt=\"Open In Colab\"/></a>"
      ]
    },
    {
      "cell_type": "code",
      "source": [
        "# Initial Setup\n",
        "run_on_colab = True\n",
        "\n",
        "if(run_on_colab):\n",
        "    from google.colab import drive\n",
        "    drive.mount('/content/drive')"
      ],
      "metadata": {
        "id": "2AobxKTZIkKY"
      },
      "execution_count": null,
      "outputs": []
    },
    {
      "cell_type": "code",
      "source": [
        "# Load Processed Data and n_vocab\n",
        "import pickle\n",
        "import numpy\n",
        "from tensorflow.keras.utils import to_categorical\n",
        "from keras.models import Sequential\n",
        "from keras.layers import Dense, Dropout, LSTM, Activation\n",
        "from keras.callbacks import ModelCheckpoint\n",
        "\n",
        "with open('/content/drive/MyDrive/MIDI/vivaldi/pickle/notes.pkl', 'rb') as filepath:\n",
        "    notes = pickle.load(filepath)\n",
        "with open('/content/drive/MyDrive/MIDI/vivaldi/pickle/n_vocab.pkl', 'rb') as filepath:\n",
        "    n_vocab = pickle.load(filepath)"
      ],
      "metadata": {
        "id": "i0E8E6VdHu-o"
      },
      "execution_count": 2,
      "outputs": []
    },
    {
      "cell_type": "code",
      "source": [
        "# Prepare Sequences\n",
        "sequence_length = 100\n",
        "pitchnames = sorted(set(item for item in notes))\n",
        "note_to_int = dict((note, number) for number, note in enumerate(pitchnames))\n",
        "network_input = []\n",
        "network_output = []\n",
        "\n",
        "for i in range(0, len(notes) - sequence_length, 1):\n",
        "    sequence_in = notes[i:i + sequence_length]\n",
        "    sequence_out = notes[i + sequence_length]\n",
        "    network_input.append([note_to_int[char] for char in sequence_in])\n",
        "    network_output.append(note_to_int[sequence_out])\n",
        "\n",
        "n_patterns = len(network_input)\n",
        "network_input = numpy.reshape(network_input, (n_patterns, sequence_length, 1))\n",
        "network_input = network_input / float(n_vocab)\n",
        "network_output = to_categorical(network_output)"
      ],
      "metadata": {
        "id": "a0-bjv3cHvfP"
      },
      "execution_count": 3,
      "outputs": []
    },
    {
      "cell_type": "code",
      "source": [
        "# Define Network Structure\n",
        "def create_network(network_input, n_vocab):\n",
        "    model = Sequential()\n",
        "    model.add(LSTM(512, input_shape=(network_input.shape[1], network_input.shape[2]), return_sequences=True))\n",
        "    model.add(Dropout(0.3))\n",
        "    model.add(LSTM(512, return_sequences=True))\n",
        "    model.add(Dropout(0.3))\n",
        "    model.add(LSTM(512))\n",
        "    model.add(Dense(256))\n",
        "    model.add(Dropout(0.3))\n",
        "    model.add(Dense(n_vocab))\n",
        "    model.add(Activation('softmax'))\n",
        "    model.compile(loss='categorical_crossentropy', optimizer='rmsprop')\n",
        "    return model\n",
        "\n",
        "model = create_network(network_input, n_vocab)"
      ],
      "metadata": {
        "id": "AtYPKaccHx7x"
      },
      "execution_count": 4,
      "outputs": []
    },
    {
      "cell_type": "code",
      "source": [
        "# Compile and Train the Model\n",
        "filepath = \"/content/drive/MyDrive/MIDI/vivaldi/weights/weights-{epoch:02d}-{loss:.4f}.h5\"\n",
        "checkpoint = ModelCheckpoint(filepath, monitor='loss', verbose=0, save_best_only=True, mode='min')\n",
        "callbacks_list = [checkpoint]\n",
        "\n",
        "model.fit(network_input, network_output, epochs=100, batch_size=64, callbacks=callbacks_list)"
      ],
      "metadata": {
        "id": "Hbwo5gqcHz3s"
      },
      "execution_count": null,
      "outputs": []
    }
  ]
}