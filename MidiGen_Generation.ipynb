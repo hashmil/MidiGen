{
  "nbformat": 4,
  "nbformat_minor": 0,
  "metadata": {
    "colab": {
      "provenance": [],
      "gpuType": "T4",
      "authorship_tag": "ABX9TyNwMb0w5PngF1r3T733+6kM",
      "include_colab_link": true
    },
    "kernelspec": {
      "name": "python3",
      "display_name": "Python 3"
    },
    "language_info": {
      "name": "python"
    },
    "accelerator": "GPU"
  },
  "cells": [
    {
      "cell_type": "markdown",
      "metadata": {
        "id": "view-in-github",
        "colab_type": "text"
      },
      "source": [
        "<a href=\"https://colab.research.google.com/github/hashmil/MidiGen/blob/main/MidiGen_Generation.ipynb\" target=\"_parent\"><img src=\"https://colab.research.google.com/assets/colab-badge.svg\" alt=\"Open In Colab\"/></a>"
      ]
    },
    {
      "cell_type": "code",
      "source": [
        "# Initial Setup\n",
        "run_on_colab = True\n",
        "\n",
        "if(run_on_colab):\n",
        "    from google.colab import drive\n",
        "    drive.mount('/content/drive')"
      ],
      "metadata": {
        "id": "5KCerxUELL67"
      },
      "execution_count": null,
      "outputs": []
    },
    {
      "cell_type": "code",
      "execution_count": 11,
      "metadata": {
        "id": "Y0baLzPRLCw6"
      },
      "outputs": [],
      "source": [
        "# Setup and Load Model and n_vocab\n",
        "import pickle\n",
        "import numpy\n",
        "from keras.models import Sequential\n",
        "from keras.layers import Dense, Dropout, LSTM, Activation\n",
        "from music21 import note, chord, stream, instrument\n",
        "from tqdm import tqdm\n",
        "\n",
        "\n",
        "with open('/content/drive/MyDrive/MIDI/vivaldi/pickle/notes.pkl', 'rb') as filepath:\n",
        "    notes = pickle.load(filepath)\n",
        "with open('/content/drive/MyDrive/MIDI/vivaldi/pickle/n_vocab.pkl', 'rb') as filepath:\n",
        "    n_vocab = pickle.load(filepath)"
      ]
    },
    {
      "cell_type": "code",
      "source": [
        "def create_network(network_input, n_vocab):\n",
        "    model = Sequential()\n",
        "    model.add(LSTM(512, input_shape=(network_input.shape[1], network_input.shape[2]), return_sequences=True))\n",
        "    model.add(Dropout(0.3))\n",
        "    model.add(LSTM(512, return_sequences=True))\n",
        "    model.add(Dropout(0.3))\n",
        "    model.add(LSTM(512))\n",
        "    model.add(Dense(256))\n",
        "    model.add(Dropout(0.3))\n",
        "    model.add(Dense(n_vocab))\n",
        "    model.add(Activation('softmax'))\n",
        "    model.compile(loss='categorical_crossentropy', optimizer='rmsprop')\n",
        "    return model"
      ],
      "metadata": {
        "id": "vuGTvP5ALP89"
      },
      "execution_count": 12,
      "outputs": []
    },
    {
      "cell_type": "code",
      "source": [
        "# Load the model structure\n",
        "sequence_length = 100\n",
        "network_input = numpy.reshape(numpy.array([0]*sequence_length), (1, sequence_length, 1))\n",
        "model = create_network(network_input, n_vocab)"
      ],
      "metadata": {
        "id": "8o9pGnPhLRdt"
      },
      "execution_count": 13,
      "outputs": []
    },
    {
      "cell_type": "code",
      "source": [
        "# Load the model weights\n",
        "weights_path = '/content/drive/MyDrive/MIDI/vivaldi/weights/weights-99-0.0860.h5'  # Replace with your model weights path\n",
        "model.load_weights(weights_path)"
      ],
      "metadata": {
        "id": "uBOkUK00LTXX"
      },
      "execution_count": 14,
      "outputs": []
    },
    {
      "cell_type": "code",
      "source": [
        "# Load processed notes\n",
        "with open('/content/drive/MyDrive/MIDI/vivaldi/pickle/notes.pkl', 'rb') as filepath:\n",
        "    notes = pickle.load(filepath)\n",
        "\n",
        "# Prepare the dictionary to convert notes to integers\n",
        "pitchnames = sorted(set(item for item in notes))\n",
        "note_to_int = dict((note, number) for number, note in enumerate(pitchnames))\n",
        "int_to_note = dict((number, note) for number, note in enumerate(pitchnames))\n",
        "n_vocab = len(set(notes))\n",
        "\n",
        "# Prepare the network input\n",
        "sequence_length = 100\n",
        "network_input = []\n",
        "for i in range(0, len(notes) - sequence_length, 1):\n",
        "    sequence_in = notes[i:i + sequence_length]\n",
        "    network_input.append([note_to_int[char] for char in sequence_in])\n",
        "\n",
        "# Reshape the input and normalize\n",
        "n_patterns = len(network_input)\n",
        "network_input = numpy.reshape(network_input, (n_patterns, sequence_length, 1))\n",
        "network_input = network_input / float(n_vocab)\n",
        "\n",
        "# Generate a random starting point for prediction\n",
        "start = numpy.random.randint(0, len(network_input)-1)\n",
        "pattern = network_input[start]\n",
        "\n",
        "# Generate Music\n",
        "prediction_output = []\n",
        "for note_index in tqdm(range(500), desc=\"Generating music\"):\n",
        "    prediction_input = numpy.reshape(pattern, (1, len(pattern), 1))\n",
        "    prediction_input = prediction_input / float(n_vocab)\n",
        "\n",
        "    prediction = model.predict(prediction_input, verbose=0)\n",
        "    index = numpy.argmax(prediction)\n",
        "    result = int_to_note[index]\n",
        "    prediction_output.append(result)\n",
        "\n",
        "    pattern = numpy.append(pattern, index)\n",
        "    pattern = pattern[1:len(pattern)]"
      ],
      "metadata": {
        "id": "15AL_RLILoWo"
      },
      "execution_count": null,
      "outputs": []
    },
    {
      "cell_type": "code",
      "source": [
        "# Convert Output to MIDI\n",
        "offset = 0\n",
        "output_notes = []\n",
        "\n",
        "for pattern in prediction_output:\n",
        "    if ('.' in pattern) or pattern.isdigit():\n",
        "        notes_in_chord = pattern.split('.')\n",
        "        notes = []\n",
        "        for current_note in notes_in_chord:\n",
        "            new_note = note.Note(int(current_note))\n",
        "            new_note.storedInstrument = instrument.Piano()\n",
        "            notes.append(new_note)\n",
        "        new_chord = chord.Chord(notes)\n",
        "        new_chord.offset = offset\n",
        "        output_notes.append(new_chord)\n",
        "    else:\n",
        "        new_note = note.Note(pattern)\n",
        "        new_note.offset = offset\n",
        "        new_note.storedInstrument = instrument.Piano()\n",
        "        output_notes.append(new_note)\n",
        "\n",
        "    offset += 0.5\n",
        "\n",
        "midi_stream = stream.Stream(output_notes)\n",
        "midi_stream.write('midi', fp='/content/drive/MyDrive/MIDI/vivaldi/output/output-002.mid')"
      ],
      "metadata": {
        "id": "LeNi-TXQLpNQ"
      },
      "execution_count": null,
      "outputs": []
    }
  ]
}